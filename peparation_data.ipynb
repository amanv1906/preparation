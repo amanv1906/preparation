{
  "nbformat": 4,
  "nbformat_minor": 0,
  "metadata": {
    "colab": {
      "name": "peparation_data.ipynb",
      "provenance": []
    },
    "kernelspec": {
      "name": "python3",
      "display_name": "Python 3"
    }
  },
  "cells": [
    {
      "cell_type": "code",
      "metadata": {
        "id": "plAbVZ5zlFFo",
        "colab_type": "code",
        "colab": {}
      },
      "source": [
        "import requests\n",
        "from bs4 import BeautifulSoup\n",
        "import re\n",
        "import pandas as pd\n",
        "import numpy as np\n",
        "import itertools\n",
        "pd.options.display.max_colwidth=500"
      ],
      "execution_count": null,
      "outputs": []
    },
    {
      "cell_type": "code",
      "metadata": {
        "id": "7V3_LhYhvbS8",
        "colab_type": "code",
        "colab": {}
      },
      "source": [
        "import requests\n",
        "from bs4 import BeautifulSoup\n",
        "\n",
        "def getSoup(url):\n",
        "    \"\"\"\n",
        "    Utility function which takes a url and returns a Soup object.\n",
        "    \"\"\"\n",
        "    response = requests.get(url)\n",
        "    soup = BeautifulSoup(response.text, 'html.parser')\n",
        "    \n",
        "    return soup\n",
        "\n",
        "def minMax(a):\n",
        "    '''Returns the index of negative and positive review.'''\n",
        "    \n",
        "    # get the index of least rated user review\n",
        "    minpos = a.index(min(a))\n",
        "    \n",
        "    # get the index of highest rated user review\n",
        "    maxpos = a.index(max(a))\n",
        "    \n",
        "    return minpos, maxpos\n",
        "\n",
        "def getReviews(soup):\n",
        "    '''Function returns a negative and positive review for each movie.'''\n",
        "    \n",
        "    # get a list of user ratings\n",
        "    user_review_ratings = [tag.previous_element for tag in \n",
        "                           soup.find_all('span', attrs={'class': 'point-scale'})]\n",
        "    \n",
        "    \n",
        "    # find the index of negative and positive review\n",
        "    n_index, p_index = minMax(list(map(int, user_review_ratings)))\n",
        "    \n",
        "    \n",
        "    # get the review tags\n",
        "    user_review_list = soup.find_all('a', attrs={'class':'title'})\n",
        "    \n",
        "    \n",
        "    # get the negative and positive review tags\n",
        "    n_review_tag = user_review_list[n_index]\n",
        "    p_review_tag = user_review_list[p_index]\n",
        "    \n",
        "    # return the negative and positive review link\n",
        "    n_review_link = \"https://www.imdb.com\" + n_review_tag['href']\n",
        "    p_review_link = \"https://www.imdb.com\" + p_review_tag['href']\n",
        "    \n",
        "    return n_review_link, p_review_link\n",
        "\n",
        "def getReviewText(review_url):\n",
        "    '''Returns the user review text given the review url.'''\n",
        "    \n",
        "    # get the review_url's soup\n",
        "    soup = getSoup(review_url)\n",
        "    \n",
        "    # find div tags with class text show-more__control\n",
        "    tag = soup.find('div', attrs={'class': 'text show-more__control'})\n",
        "    \n",
        "    return tag.getText()\n",
        "\n",
        "def getMovieTitle(review_url):\n",
        "    '''Returns the movie title from the review url.'''\n",
        "    \n",
        "    # get the review_url's soup\n",
        "    soup = getSoup(review_url)\n",
        "    \n",
        "    # find h1 tag\n",
        "    tag = soup.find('h1')\n",
        "    \n",
        "    return list(tag.children)[1].getText()\n",
        "\n",
        "def getNounChunks(user_review):\n",
        "    \n",
        "    # create the doc object\n",
        "    doc = nlp(user_review)\n",
        "    \n",
        "    # get a list of noun_chunks\n",
        "    noun_chunks = list(doc.noun_chunks)\n",
        "    \n",
        "    # convert noun_chunks from span objects to strings, otherwise it won't pickle\n",
        "    noun_chunks_strlist = [chunk.text for chunk in noun_chunks]\n",
        "    \n",
        "    return noun_chunks_strlist"
      ],
      "execution_count": null,
      "outputs": []
    },
    {
      "cell_type": "code",
      "metadata": {
        "id": "0XmZRw2g_sr2",
        "colab_type": "code",
        "colab": {}
      },
      "source": [
        "# API call to select:\n",
        "## feature films\n",
        "## which are rated atleast 4.0\n",
        "## having atleast 50,000 votes\n",
        "## in the Thriller genre\n",
        "## sorted by user rating\n",
        "## limit to 250 movies\n",
        "url = '''https://www.imdb.com/search/title/?title_type=feature&user_rating=4.0,&num_votes=10000,&countries=in&languages=hi&sort=user_rating,desc&count=250'''\n",
        "\n",
        "# get the soup object for main api url\n",
        "movies_soup = getSoup(url)\n"
      ],
      "execution_count": null,
      "outputs": []
    },
    {
      "cell_type": "code",
      "metadata": {
        "id": "gRdwO1xEFdrC",
        "colab_type": "code",
        "colab": {
          "base_uri": "https://localhost:8080/",
          "height": 221
        },
        "outputId": "9403840a-c0cc-4af2-eef5-44f0d5728f14"
      },
      "source": [
        "# find all a-tags with class:None\n",
        "movie_tags = movies_soup.find_all('a', attrs={'class': None})\n",
        "\n",
        "# filter the a-tags to get just the titles\n",
        "movie_tags = [tag.attrs['href'] for tag in movie_tags \n",
        "              if tag.attrs['href'].startswith('/title') & tag.attrs['href'].endswith('/')]\n",
        "\n",
        "# remove duplicate links\n",
        "movie_tags = list(dict.fromkeys(movie_tags))\n",
        "\n",
        "print(\"There are a total of \" + str(len(movie_tags)) + \" movie titles\")\n",
        "print(\"Displaying 10 titles\")\n",
        "movie_tags[:10]"
      ],
      "execution_count": null,
      "outputs": [
        {
          "output_type": "stream",
          "text": [
            "There are a total of 250 movie titles\n",
            "Displaying 10 titles\n"
          ],
          "name": "stdout"
        },
        {
          "output_type": "execute_result",
          "data": {
            "text/plain": [
              "['/title/tt8110330/',\n",
              " '/title/tt0079221/',\n",
              " '/title/tt0400234/',\n",
              " '/title/tt0066763/',\n",
              " '/title/tt5074352/',\n",
              " '/title/tt1187043/',\n",
              " '/title/tt0986264/',\n",
              " '/title/tt0085743/',\n",
              " '/title/tt0072783/',\n",
              " '/title/tt8291224/']"
            ]
          },
          "metadata": {
            "tags": []
          },
          "execution_count": 78
        }
      ]
    },
    {
      "cell_type": "code",
      "metadata": {
        "id": "OA3BY6VfFrMx",
        "colab_type": "code",
        "colab": {
          "base_uri": "https://localhost:8080/",
          "height": 221
        },
        "outputId": "492ed117-6569-4923-8d9d-5e6c874785d6"
      },
      "source": [
        "# movie links\n",
        "base_url = \"https://www.imdb.com\"\n",
        "movie_links = [base_url + tag + 'reviews' for tag in movie_tags]\n",
        "print(\"There are a total of \" + str(len(movie_links)) + \" movie user reviews\")\n",
        "print(\"Displaying 10 user reviews links\")\n",
        "movie_links[:10]"
      ],
      "execution_count": null,
      "outputs": [
        {
          "output_type": "stream",
          "text": [
            "There are a total of 250 movie user reviews\n",
            "Displaying 10 user reviews links\n"
          ],
          "name": "stdout"
        },
        {
          "output_type": "execute_result",
          "data": {
            "text/plain": [
              "['https://www.imdb.com/title/tt8110330/reviews',\n",
              " 'https://www.imdb.com/title/tt0079221/reviews',\n",
              " 'https://www.imdb.com/title/tt0400234/reviews',\n",
              " 'https://www.imdb.com/title/tt0066763/reviews',\n",
              " 'https://www.imdb.com/title/tt5074352/reviews',\n",
              " 'https://www.imdb.com/title/tt1187043/reviews',\n",
              " 'https://www.imdb.com/title/tt0986264/reviews',\n",
              " 'https://www.imdb.com/title/tt0085743/reviews',\n",
              " 'https://www.imdb.com/title/tt0072783/reviews',\n",
              " 'https://www.imdb.com/title/tt8291224/reviews']"
            ]
          },
          "metadata": {
            "tags": []
          },
          "execution_count": 79
        }
      ]
    },
    {
      "cell_type": "code",
      "metadata": {
        "id": "3LmqBxWKFtn2",
        "colab_type": "code",
        "colab": {
          "base_uri": "https://localhost:8080/",
          "height": 238
        },
        "outputId": "50501105-5142-41dc-8458-9ae16e0654a0"
      },
      "source": [
        "# get a list of soup objects\n",
        "movie_soups = [getSoup(link) for link in movie_links]\n",
        "\n",
        "# get all 500 movie review links\n",
        "movie_review_list = [getReviews(movie_soup) for movie_soup in movie_soups]\n",
        "\n",
        "movie_review_list = list(itertools.chain(*movie_review_list))\n",
        "print(len(movie_review_list))\n",
        "\n",
        "print(\"There are a total of \" + str(len(movie_review_list)) + \" individual movie reviews\")\n",
        "print(\"Displaying 10 reviews\")\n",
        "movie_review_list[:10]"
      ],
      "execution_count": null,
      "outputs": [
        {
          "output_type": "stream",
          "text": [
            "500\n",
            "There are a total of 500 individual movie reviews\n",
            "Displaying 10 reviews\n"
          ],
          "name": "stdout"
        },
        {
          "output_type": "execute_result",
          "data": {
            "text/plain": [
              "['https://www.imdb.com/review/rw5930232/',\n",
              " 'https://www.imdb.com/review/rw5930232/',\n",
              " 'https://www.imdb.com/review/rw2492582/',\n",
              " 'https://www.imdb.com/review/rw0167942/',\n",
              " 'https://www.imdb.com/review/rw1618747/',\n",
              " 'https://www.imdb.com/review/rw1079742/',\n",
              " 'https://www.imdb.com/review/rw5742332/',\n",
              " 'https://www.imdb.com/review/rw1021007/',\n",
              " 'https://www.imdb.com/review/rw3604119/',\n",
              " 'https://www.imdb.com/review/rw5504574/']"
            ]
          },
          "metadata": {
            "tags": []
          },
          "execution_count": 80
        }
      ]
    },
    {
      "cell_type": "code",
      "metadata": {
        "id": "yh0d47ciFya4",
        "colab_type": "code",
        "colab": {}
      },
      "source": [
        "# get review text from the review link\n",
        "review_texts = [getReviewText(url) for url in movie_review_list]\n",
        "\n",
        "# get movie name from the review link\n",
        "movie_titles = [getMovieTitle(url) for url in movie_review_list]\n",
        "\n",
        "# label each review with negative or positive\n",
        "review_sentiment = np.array(['negative', 'positive'] * (len(movie_review_list)//2))\n",
        "\n",
        "# construct a dataframe\n",
        "df = pd.DataFrame({'movie': movie_titles, 'user_review_permalink': movie_review_list,\n",
        "             'user_review': review_texts, 'sentiment': review_sentiment})"
      ],
      "execution_count": null,
      "outputs": []
    },
    {
      "cell_type": "code",
      "metadata": {
        "id": "4CMBPXkCN6jE",
        "colab_type": "code",
        "colab": {}
      },
      "source": [
        "data = df.copy()"
      ],
      "execution_count": null,
      "outputs": []
    },
    {
      "cell_type": "code",
      "metadata": {
        "id": "ptr_ojcLOHkX",
        "colab_type": "code",
        "colab": {
          "base_uri": "https://localhost:8080/",
          "height": 544
        },
        "outputId": "c5f283d9-4486-4fc9-8926-420bcf44e818"
      },
      "source": [
        "data.head()"
      ],
      "execution_count": null,
      "outputs": [
        {
          "output_type": "execute_result",
          "data": {
            "text/html": [
              "<div>\n",
              "<style scoped>\n",
              "    .dataframe tbody tr th:only-of-type {\n",
              "        vertical-align: middle;\n",
              "    }\n",
              "\n",
              "    .dataframe tbody tr th {\n",
              "        vertical-align: top;\n",
              "    }\n",
              "\n",
              "    .dataframe thead th {\n",
              "        text-align: right;\n",
              "    }\n",
              "</style>\n",
              "<table border=\"1\" class=\"dataframe\">\n",
              "  <thead>\n",
              "    <tr style=\"text-align: right;\">\n",
              "      <th></th>\n",
              "      <th>movie</th>\n",
              "      <th>user_review_permalink</th>\n",
              "      <th>user_review</th>\n",
              "      <th>sentiment</th>\n",
              "    </tr>\n",
              "  </thead>\n",
              "  <tbody>\n",
              "    <tr>\n",
              "      <th>0</th>\n",
              "      <td>Dil Bechara</td>\n",
              "      <td>https://www.imdb.com/review/rw5930232/</td>\n",
              "      <td>One of the finest acting I've ever seen.I suggest you to please watch this. I think this is far better than movies originated from nepotism. Shushant Sir has done great work and lived the moment in this film. Everything was perfect.</td>\n",
              "      <td>negative</td>\n",
              "    </tr>\n",
              "    <tr>\n",
              "      <th>1</th>\n",
              "      <td>Dil Bechara</td>\n",
              "      <td>https://www.imdb.com/review/rw5930232/</td>\n",
              "      <td>One of the finest acting I've ever seen.I suggest you to please watch this. I think this is far better than movies originated from nepotism. Shushant Sir has done great work and lived the moment in this film. Everything was perfect.</td>\n",
              "      <td>positive</td>\n",
              "    </tr>\n",
              "    <tr>\n",
              "      <th>2</th>\n",
              "      <td>Gol Maal</td>\n",
              "      <td>https://www.imdb.com/review/rw2492582/</td>\n",
              "      <td>Hrishikesh Mukherjee directs another comedy movie involving simple middle-class people and presents it through their everyday struggle. The entire picture is simple, authentic and fun. The concept of a young guy who would go to any extent to not lose his job is very interesting, and Mukherjee handles it with great success. Gol Maal is a comedy of errors and it's wonderfully developed and narrated. It's not a complex story, but it's not a silly one either, and the simplicity works in its favo...</td>\n",
              "      <td>negative</td>\n",
              "    </tr>\n",
              "    <tr>\n",
              "      <th>3</th>\n",
              "      <td>Gol Maal</td>\n",
              "      <td>https://www.imdb.com/review/rw0167942/</td>\n",
              "      <td>This movie is one of the best movies that Hrishikesh Mukherjee gave. A must see for everybody. I don't have words to express how much I like this movie. And I am yet to meet a person who did not like it. Too good.</td>\n",
              "      <td>positive</td>\n",
              "    </tr>\n",
              "    <tr>\n",
              "      <th>4</th>\n",
              "      <td>Black Friday</td>\n",
              "      <td>https://www.imdb.com/review/rw1618747/</td>\n",
              "      <td>I would give this film a 10 out of 10, but I don't think any film can be perfect. Anurag, you are a genius! This film is great. Not only is it a true story, but it has been shot in a very unique fashion...The flashbacks, etc make this film so unique. Also the red shots and the blue shots also give a feel of reality. The acting, cinematography, editing, and action was all top notch and made the film very realistic. This is not your everyday masala, popcorn flick but a very well made, thought ...</td>\n",
              "      <td>negative</td>\n",
              "    </tr>\n",
              "  </tbody>\n",
              "</table>\n",
              "</div>"
            ],
            "text/plain": [
              "          movie  ... sentiment\n",
              "0   Dil Bechara  ...  negative\n",
              "1   Dil Bechara  ...  positive\n",
              "2      Gol Maal  ...  negative\n",
              "3      Gol Maal  ...  positive\n",
              "4  Black Friday  ...  negative\n",
              "\n",
              "[5 rows x 4 columns]"
            ]
          },
          "metadata": {
            "tags": []
          },
          "execution_count": 99
        }
      ]
    },
    {
      "cell_type": "code",
      "metadata": {
        "id": "lY332Z1bOgM1",
        "colab_type": "code",
        "colab": {}
      },
      "source": [
        "p = list(df['movie'])\n",
        "q = list(df['user_review_permalink'])\n",
        "r = list(df['user_review'])\n",
        "s = list(df['sentiment'])"
      ],
      "execution_count": null,
      "outputs": []
    },
    {
      "cell_type": "code",
      "metadata": {
        "id": "LV10VpFOWb9d",
        "colab_type": "code",
        "colab": {}
      },
      "source": [
        "final_p = []\n",
        "final_q = []\n",
        "final_r = []\n",
        "final_s = []\n",
        "count = 0\n",
        "for i in range(0,len(p),2):\n",
        "  if (count==0):\n",
        "    final_p.append(p[i])\n",
        "    final_q.append(q[i])\n",
        "    final_r.append(r[i])\n",
        "    final_s.append(s[i])\n",
        "    count = count+1\n",
        "\n",
        "  else:\n",
        "    final_p.append(p[i+1])\n",
        "    final_q.append(q[i+1])\n",
        "    final_r.append(r[i+1])\n",
        "    final_s.append(s[i+1])\n",
        "    count = 0\n",
        "\n",
        "  "
      ],
      "execution_count": null,
      "outputs": []
    },
    {
      "cell_type": "code",
      "metadata": {
        "id": "hBylXzjFXf3d",
        "colab_type": "code",
        "colab": {
          "base_uri": "https://localhost:8080/",
          "height": 34
        },
        "outputId": "e8f471b3-35c0-4644-c306-74ec70468b23"
      },
      "source": [
        "len(final_p)"
      ],
      "execution_count": null,
      "outputs": [
        {
          "output_type": "execute_result",
          "data": {
            "text/plain": [
              "250"
            ]
          },
          "metadata": {
            "tags": []
          },
          "execution_count": 137
        }
      ]
    },
    {
      "cell_type": "code",
      "metadata": {
        "id": "ZufyUPXcXi7g",
        "colab_type": "code",
        "colab": {}
      },
      "source": [
        "data1 =  {'movie':final_p , 'user_review_permalink':final_q,'user_review':final_r,'sentiment':final_s}\n",
        "df2 = pd.DataFrame(data1) "
      ],
      "execution_count": null,
      "outputs": []
    },
    {
      "cell_type": "code",
      "metadata": {
        "id": "xHCMNCqgcPEJ",
        "colab_type": "code",
        "colab": {
          "base_uri": "https://localhost:8080/",
          "height": 595
        },
        "outputId": "77cd44ed-db4c-4ff1-d561-adb5cabed141"
      },
      "source": [
        "df2.head()"
      ],
      "execution_count": null,
      "outputs": [
        {
          "output_type": "execute_result",
          "data": {
            "text/html": [
              "<div>\n",
              "<style scoped>\n",
              "    .dataframe tbody tr th:only-of-type {\n",
              "        vertical-align: middle;\n",
              "    }\n",
              "\n",
              "    .dataframe tbody tr th {\n",
              "        vertical-align: top;\n",
              "    }\n",
              "\n",
              "    .dataframe thead th {\n",
              "        text-align: right;\n",
              "    }\n",
              "</style>\n",
              "<table border=\"1\" class=\"dataframe\">\n",
              "  <thead>\n",
              "    <tr style=\"text-align: right;\">\n",
              "      <th></th>\n",
              "      <th>movie</th>\n",
              "      <th>user_review_permalink</th>\n",
              "      <th>user_review</th>\n",
              "      <th>sentiment</th>\n",
              "    </tr>\n",
              "  </thead>\n",
              "  <tbody>\n",
              "    <tr>\n",
              "      <th>0</th>\n",
              "      <td>Dil Bechara</td>\n",
              "      <td>https://www.imdb.com/review/rw5930232/</td>\n",
              "      <td>One of the finest acting I've ever seen.I suggest you to please watch this. I think this is far better than movies originated from nepotism. Shushant Sir has done great work and lived the moment in this film. Everything was perfect.</td>\n",
              "      <td>negative</td>\n",
              "    </tr>\n",
              "    <tr>\n",
              "      <th>1</th>\n",
              "      <td>Gol Maal</td>\n",
              "      <td>https://www.imdb.com/review/rw0167942/</td>\n",
              "      <td>This movie is one of the best movies that Hrishikesh Mukherjee gave. A must see for everybody. I don't have words to express how much I like this movie. And I am yet to meet a person who did not like it. Too good.</td>\n",
              "      <td>positive</td>\n",
              "    </tr>\n",
              "    <tr>\n",
              "      <th>2</th>\n",
              "      <td>Black Friday</td>\n",
              "      <td>https://www.imdb.com/review/rw1618747/</td>\n",
              "      <td>I would give this film a 10 out of 10, but I don't think any film can be perfect. Anurag, you are a genius! This film is great. Not only is it a true story, but it has been shot in a very unique fashion...The flashbacks, etc make this film so unique. Also the red shots and the blue shots also give a feel of reality. The acting, cinematography, editing, and action was all top notch and made the film very realistic. This is not your everyday masala, popcorn flick but a very well made, thought ...</td>\n",
              "      <td>negative</td>\n",
              "    </tr>\n",
              "    <tr>\n",
              "      <th>3</th>\n",
              "      <td>Anand</td>\n",
              "      <td>https://www.imdb.com/review/rw1021007/</td>\n",
              "      <td>What an outstanding movie!! I have heard all the prior generation people rave about this movie, so, I decided to check this movie out myself. I only have faint memories of having watched parts of this movie from my mom's lap when she and dad were watching this in the theater. The other reason why I decided to check this out was a Super-bowl half-time debate on whether Amitabh was better than Rajesh Khanna. I could not participate in this debate for two reasons: first, I was eagerly awaiting ...</td>\n",
              "      <td>positive</td>\n",
              "    </tr>\n",
              "    <tr>\n",
              "      <th>4</th>\n",
              "      <td>我和我的冠軍女兒</td>\n",
              "      <td>https://www.imdb.com/review/rw3604119/</td>\n",
              "      <td>Mahavir Singh Phogat is a former champion wrestler. He is married to Shobha Kaur. Phogat's dream is to win a gold medal for India in wrestling. He is unable to do this. He promises that his son will do what he couldn't do. However, although he loves them dearly, Phogat is disappointed when Shobha gives birth to four daughters. He does not believe girls can wrestle well. However, when two of his daughters, Geeta and Babita, come home after beating up two boys, Phogat realises how wrong he has...</td>\n",
              "      <td>negative</td>\n",
              "    </tr>\n",
              "  </tbody>\n",
              "</table>\n",
              "</div>"
            ],
            "text/plain": [
              "          movie  ... sentiment\n",
              "0   Dil Bechara  ...  negative\n",
              "1      Gol Maal  ...  positive\n",
              "2  Black Friday  ...  negative\n",
              "3         Anand  ...  positive\n",
              "4      我和我的冠軍女兒  ...  negative\n",
              "\n",
              "[5 rows x 4 columns]"
            ]
          },
          "metadata": {
            "tags": []
          },
          "execution_count": 139
        }
      ]
    },
    {
      "cell_type": "code",
      "metadata": {
        "id": "h_egx6jRcTLG",
        "colab_type": "code",
        "colab": {}
      },
      "source": [
        "df4 = df2[0:200]"
      ],
      "execution_count": null,
      "outputs": []
    },
    {
      "cell_type": "code",
      "metadata": {
        "id": "dH-ZLFoRdEPU",
        "colab_type": "code",
        "colab": {
          "base_uri": "https://localhost:8080/",
          "height": 1000
        },
        "outputId": "83c117a0-f217-48fa-e586-c0d67cf3d4d0"
      },
      "source": [
        "df4"
      ],
      "execution_count": null,
      "outputs": [
        {
          "output_type": "execute_result",
          "data": {
            "text/html": [
              "<div>\n",
              "<style scoped>\n",
              "    .dataframe tbody tr th:only-of-type {\n",
              "        vertical-align: middle;\n",
              "    }\n",
              "\n",
              "    .dataframe tbody tr th {\n",
              "        vertical-align: top;\n",
              "    }\n",
              "\n",
              "    .dataframe thead th {\n",
              "        text-align: right;\n",
              "    }\n",
              "</style>\n",
              "<table border=\"1\" class=\"dataframe\">\n",
              "  <thead>\n",
              "    <tr style=\"text-align: right;\">\n",
              "      <th></th>\n",
              "      <th>movie</th>\n",
              "      <th>user_review_permalink</th>\n",
              "      <th>user_review</th>\n",
              "      <th>sentiment</th>\n",
              "    </tr>\n",
              "  </thead>\n",
              "  <tbody>\n",
              "    <tr>\n",
              "      <th>0</th>\n",
              "      <td>Dil Bechara</td>\n",
              "      <td>https://www.imdb.com/review/rw5930232/</td>\n",
              "      <td>One of the finest acting I've ever seen.I suggest you to please watch this. I think this is far better than movies originated from nepotism. Shushant Sir has done great work and lived the moment in this film. Everything was perfect.</td>\n",
              "      <td>negative</td>\n",
              "    </tr>\n",
              "    <tr>\n",
              "      <th>1</th>\n",
              "      <td>Gol Maal</td>\n",
              "      <td>https://www.imdb.com/review/rw0167942/</td>\n",
              "      <td>This movie is one of the best movies that Hrishikesh Mukherjee gave. A must see for everybody. I don't have words to express how much I like this movie. And I am yet to meet a person who did not like it. Too good.</td>\n",
              "      <td>positive</td>\n",
              "    </tr>\n",
              "    <tr>\n",
              "      <th>2</th>\n",
              "      <td>Black Friday</td>\n",
              "      <td>https://www.imdb.com/review/rw1618747/</td>\n",
              "      <td>I would give this film a 10 out of 10, but I don't think any film can be perfect. Anurag, you are a genius! This film is great. Not only is it a true story, but it has been shot in a very unique fashion...The flashbacks, etc make this film so unique. Also the red shots and the blue shots also give a feel of reality. The acting, cinematography, editing, and action was all top notch and made the film very realistic. This is not your everyday masala, popcorn flick but a very well made, thought ...</td>\n",
              "      <td>negative</td>\n",
              "    </tr>\n",
              "    <tr>\n",
              "      <th>3</th>\n",
              "      <td>Anand</td>\n",
              "      <td>https://www.imdb.com/review/rw1021007/</td>\n",
              "      <td>What an outstanding movie!! I have heard all the prior generation people rave about this movie, so, I decided to check this movie out myself. I only have faint memories of having watched parts of this movie from my mom's lap when she and dad were watching this in the theater. The other reason why I decided to check this out was a Super-bowl half-time debate on whether Amitabh was better than Rajesh Khanna. I could not participate in this debate for two reasons: first, I was eagerly awaiting ...</td>\n",
              "      <td>positive</td>\n",
              "    </tr>\n",
              "    <tr>\n",
              "      <th>4</th>\n",
              "      <td>我和我的冠軍女兒</td>\n",
              "      <td>https://www.imdb.com/review/rw3604119/</td>\n",
              "      <td>Mahavir Singh Phogat is a former champion wrestler. He is married to Shobha Kaur. Phogat's dream is to win a gold medal for India in wrestling. He is unable to do this. He promises that his son will do what he couldn't do. However, although he loves them dearly, Phogat is disappointed when Shobha gives birth to four daughters. He does not believe girls can wrestle well. However, when two of his daughters, Geeta and Babita, come home after beating up two boys, Phogat realises how wrong he has...</td>\n",
              "      <td>negative</td>\n",
              "    </tr>\n",
              "    <tr>\n",
              "      <th>...</th>\n",
              "      <td>...</td>\n",
              "      <td>...</td>\n",
              "      <td>...</td>\n",
              "      <td>...</td>\n",
              "    </tr>\n",
              "    <tr>\n",
              "      <th>195</th>\n",
              "      <td>Fan</td>\n",
              "      <td>https://www.imdb.com/review/rw3452793/</td>\n",
              "      <td>I'll try not to be emotional in this, although as a Shah Rukh Khan fan I felt waves of emotions while watching the movie and after it ended it was an emotional moment to see the King Khan back with a blinding, thundering, stupendous performance for which we (the fans) have waited for so long. The idea of the movie was interesting, and the script has several plot holes, some of them, pretty big. Character consistency of Aryan Khanna the star is dubious. But.... what gives?The overall executio...</td>\n",
              "      <td>positive</td>\n",
              "    </tr>\n",
              "    <tr>\n",
              "      <th>196</th>\n",
              "      <td>Aashiqui 2</td>\n",
              "      <td>https://www.imdb.com/review/rw2810142/</td>\n",
              "      <td>Very misleading for today's youth. Love can conquer everything. Love gives you hope and faith to live life not to lose your life. Very slow and dragging movie. The only good point about movie is song and music. Acting is also good. But the message story conveys it's not appealing. It's not a movie one can remember forever like KAL HO NA HO or DDLJ. the story of success and failure of stardom is very old. Giving up life for your loved one is not really a solution. Must avoid.. don't waste you...</td>\n",
              "      <td>negative</td>\n",
              "    </tr>\n",
              "    <tr>\n",
              "      <th>197</th>\n",
              "      <td>孟買日記</td>\n",
              "      <td>https://www.imdb.com/review/rw2503167/</td>\n",
              "      <td>What prompted me to write this review is the kind of negativity this movie has received from reviewers on IMDb. I understand that every review written here is an honest opinion, but the number of 1 out of 10 scores I have come across from people who also had time to write a review amazes me. I have taken time to read most of the reviews and I see that they were all disappointed with the movie not featuring Aamir over other actors. I have one thing to say to all of them, THIS MOVIE IS NOT ABO...</td>\n",
              "      <td>positive</td>\n",
              "    </tr>\n",
              "    <tr>\n",
              "      <th>198</th>\n",
              "      <td>Karthik Calling Karthik</td>\n",
              "      <td>https://www.imdb.com/review/rw2261395/</td>\n",
              "      <td>After 'Luck by chance' Farhan Akhtar is back on the big screen in 'Karthik calling Karthik'. With this role it gave him the opportunity to play a character that was more simple, vulnerable and emotional. The role has many shades and is not one sided. As in the same vein as 'Don' the movie belongs to the suspense thriller genre. Many people may have seen movies like 'Phone booth' and 'When a stranger calls', so this will be very familiar territory to those. The movie revolves around the telep...</td>\n",
              "      <td>negative</td>\n",
              "    </tr>\n",
              "    <tr>\n",
              "      <th>199</th>\n",
              "      <td>Hum Tum</td>\n",
              "      <td>https://www.imdb.com/review/rw1161768/</td>\n",
              "      <td>Hum Tum literally means Me and You.At a book review for the new little cartoon, Hum Tum, journalists ask Karan Kapoor (Saif Ali Khan)if his story is hidden in the story that he wrote. Someone asks him what his story is, and Karan agrees to tell them. He begins where he first met a girl named Riya (Rani Mukherjee) on a New York destined flight. They meet and on a long layaway in Amsterdam, they can agree on one thing. They loathe each other. Riya thinks that she will never see Karan again, bu...</td>\n",
              "      <td>positive</td>\n",
              "    </tr>\n",
              "  </tbody>\n",
              "</table>\n",
              "<p>200 rows × 4 columns</p>\n",
              "</div>"
            ],
            "text/plain": [
              "                       movie  ... sentiment\n",
              "0                Dil Bechara  ...  negative\n",
              "1                   Gol Maal  ...  positive\n",
              "2               Black Friday  ...  negative\n",
              "3                      Anand  ...  positive\n",
              "4                   我和我的冠軍女兒  ...  negative\n",
              "..                       ...  ...       ...\n",
              "195                      Fan  ...  positive\n",
              "196               Aashiqui 2  ...  negative\n",
              "197                     孟買日記  ...  positive\n",
              "198  Karthik Calling Karthik  ...  negative\n",
              "199                  Hum Tum  ...  positive\n",
              "\n",
              "[200 rows x 4 columns]"
            ]
          },
          "metadata": {
            "tags": []
          },
          "execution_count": 141
        }
      ]
    },
    {
      "cell_type": "code",
      "metadata": {
        "id": "CYVOw6U_dFt9",
        "colab_type": "code",
        "colab": {}
      },
      "source": [
        "df5 = df2[200:250]"
      ],
      "execution_count": null,
      "outputs": []
    },
    {
      "cell_type": "code",
      "metadata": {
        "id": "MUPgtILFdNoF",
        "colab_type": "code",
        "colab": {}
      },
      "source": [
        "y_true = df5['sentiment']"
      ],
      "execution_count": null,
      "outputs": []
    },
    {
      "cell_type": "code",
      "metadata": {
        "id": "HKjGG9Q63Dfm",
        "colab_type": "code",
        "colab": {
          "base_uri": "https://localhost:8080/",
          "height": 714
        },
        "outputId": "02d61641-9db3-4527-cd91-b893bb66ec6e"
      },
      "source": [
        "df5.head()"
      ],
      "execution_count": null,
      "outputs": [
        {
          "output_type": "execute_result",
          "data": {
            "text/html": [
              "<div>\n",
              "<style scoped>\n",
              "    .dataframe tbody tr th:only-of-type {\n",
              "        vertical-align: middle;\n",
              "    }\n",
              "\n",
              "    .dataframe tbody tr th {\n",
              "        vertical-align: top;\n",
              "    }\n",
              "\n",
              "    .dataframe thead th {\n",
              "        text-align: right;\n",
              "    }\n",
              "</style>\n",
              "<table border=\"1\" class=\"dataframe\">\n",
              "  <thead>\n",
              "    <tr style=\"text-align: right;\">\n",
              "      <th></th>\n",
              "      <th>movie</th>\n",
              "      <th>user_review_permalink</th>\n",
              "      <th>user_review</th>\n",
              "      <th>sentiment</th>\n",
              "    </tr>\n",
              "  </thead>\n",
              "  <tbody>\n",
              "    <tr>\n",
              "      <th>200</th>\n",
              "      <td>Main Hoon Na</td>\n",
              "      <td>https://www.imdb.com/review/rw1409633/</td>\n",
              "      <td>But what was up with Zayed Khan's hair? And who thought to cast Rakhi Sawant as a college sex symbol! She looked truly miscast in that role.But anyways, this was a wonderful film, I very well nearly laughed myself into a coma at the comic bits. I can't believe I postponed seeing this film for so long.Shah Rukh Khan (Ram) stars as an Army major who endures a personal tragedy at the beginning of the film, then is ordered to go undercover to protect the commissioner's daughter (played by Amrita...</td>\n",
              "      <td>negative</td>\n",
              "    </tr>\n",
              "    <tr>\n",
              "      <th>201</th>\n",
              "      <td>Pardes</td>\n",
              "      <td>https://www.imdb.com/review/rw0428420/</td>\n",
              "      <td>This is an excellent film, Sharukh Khan gives an astounding performance as Arjun, Mahima Choudhary puts a lot of effort in to her character  as the chemistry between Mahima and Sharukh shows throughout the film.  This is a different film from the others as it concentrates on the differences between countries.  The songs in the film are also meaningful and romantic. Overall, this film is one of my favourite films.</td>\n",
              "      <td>positive</td>\n",
              "    </tr>\n",
              "    <tr>\n",
              "      <th>202</th>\n",
              "      <td>Dil To Pagal Hai</td>\n",
              "      <td>https://www.imdb.com/review/rw0413181/</td>\n",
              "      <td>I first saw the film in 1998, and I was never tired of seeing the film again and again. Karishma Kapoor as Nisha gave a first rate performance even though she played second fiddle to Madhuri Dixit (Pooja). The story revolves around the life of dancers. Nisha and Rahul (Shahrukh Khan) are best friends. Unknown to Rahul, Nisha secretly loved him. Pooja came into the scene after Nisha accidentally slipped her foot during dancing practice for Rahul's next production drama entitled Maya. Desperat...</td>\n",
              "      <td>negative</td>\n",
              "    </tr>\n",
              "    <tr>\n",
              "      <th>203</th>\n",
              "      <td>Dil Dhadakne Do</td>\n",
              "      <td>https://www.imdb.com/review/rw4191352/</td>\n",
              "      <td>The people who are saying this movie is not good clearly don't know anything about films.Dil Dhhadakne do is one of my favourite films.It is inspiring,beautiful,funny and just a full package.The film has a soul and is just a masterpiece from the director Zoya Akhtar.</td>\n",
              "      <td>positive</td>\n",
              "    </tr>\n",
              "    <tr>\n",
              "      <th>204</th>\n",
              "      <td>Fukrey</td>\n",
              "      <td>https://www.imdb.com/review/rw2829690/</td>\n",
              "      <td>Fukrey has got its base trembling with a plot so naive, viewer discretion is recommended. Its screenplay is bit confusing for people who don't pay attention. Otherwise, it is a healthy Bollywood comedy film.Cast performance is nothing to talk about but the actors have managed to create enough chemistry between themselves. Although love doesn't come center-stage, it amuses. The music is catchy, but the lilts could've been improvised. Same theme music is used all over the 130 minutes. Cinemato...</td>\n",
              "      <td>negative</td>\n",
              "    </tr>\n",
              "  </tbody>\n",
              "</table>\n",
              "</div>"
            ],
            "text/plain": [
              "                movie  ... sentiment\n",
              "200      Main Hoon Na  ...  negative\n",
              "201            Pardes  ...  positive\n",
              "202  Dil To Pagal Hai  ...  negative\n",
              "203   Dil Dhadakne Do  ...  positive\n",
              "204            Fukrey  ...  negative\n",
              "\n",
              "[5 rows x 4 columns]"
            ]
          },
          "metadata": {
            "tags": []
          },
          "execution_count": 144
        }
      ]
    },
    {
      "cell_type": "code",
      "metadata": {
        "id": "d9eVD0CAdZGx",
        "colab_type": "code",
        "colab": {
          "base_uri": "https://localhost:8080/",
          "height": 119
        },
        "outputId": "53564812-ecae-4247-f478-b210e59654ec"
      },
      "source": [
        "y_true.head()"
      ],
      "execution_count": null,
      "outputs": [
        {
          "output_type": "execute_result",
          "data": {
            "text/plain": [
              "200    negative\n",
              "201    positive\n",
              "202    negative\n",
              "203    positive\n",
              "204    negative\n",
              "Name: sentiment, dtype: object"
            ]
          },
          "metadata": {
            "tags": []
          },
          "execution_count": 145
        }
      ]
    },
    {
      "cell_type": "code",
      "metadata": {
        "id": "3xmRZY1KdS2g",
        "colab_type": "code",
        "colab": {}
      },
      "source": [
        "X = df5.drop('sentiment',axis=1)"
      ],
      "execution_count": null,
      "outputs": []
    },
    {
      "cell_type": "code",
      "metadata": {
        "id": "e8MHhf5s34Tm",
        "colab_type": "code",
        "colab": {
          "base_uri": "https://localhost:8080/",
          "height": 1000
        },
        "outputId": "f0361704-e5d6-43ba-c244-004e22c8b442"
      },
      "source": [
        "X"
      ],
      "execution_count": null,
      "outputs": [
        {
          "output_type": "execute_result",
          "data": {
            "text/html": [
              "<div>\n",
              "<style scoped>\n",
              "    .dataframe tbody tr th:only-of-type {\n",
              "        vertical-align: middle;\n",
              "    }\n",
              "\n",
              "    .dataframe tbody tr th {\n",
              "        vertical-align: top;\n",
              "    }\n",
              "\n",
              "    .dataframe thead th {\n",
              "        text-align: right;\n",
              "    }\n",
              "</style>\n",
              "<table border=\"1\" class=\"dataframe\">\n",
              "  <thead>\n",
              "    <tr style=\"text-align: right;\">\n",
              "      <th></th>\n",
              "      <th>movie</th>\n",
              "      <th>user_review_permalink</th>\n",
              "      <th>user_review</th>\n",
              "    </tr>\n",
              "  </thead>\n",
              "  <tbody>\n",
              "    <tr>\n",
              "      <th>200</th>\n",
              "      <td>Main Hoon Na</td>\n",
              "      <td>https://www.imdb.com/review/rw1409633/</td>\n",
              "      <td>But what was up with Zayed Khan's hair? And who thought to cast Rakhi Sawant as a college sex symbol! She looked truly miscast in that role.But anyways, this was a wonderful film, I very well nearly laughed myself into a coma at the comic bits. I can't believe I postponed seeing this film for so long.Shah Rukh Khan (Ram) stars as an Army major who endures a personal tragedy at the beginning of the film, then is ordered to go undercover to protect the commissioner's daughter (played by Amrita...</td>\n",
              "    </tr>\n",
              "    <tr>\n",
              "      <th>201</th>\n",
              "      <td>Pardes</td>\n",
              "      <td>https://www.imdb.com/review/rw0428420/</td>\n",
              "      <td>This is an excellent film, Sharukh Khan gives an astounding performance as Arjun, Mahima Choudhary puts a lot of effort in to her character  as the chemistry between Mahima and Sharukh shows throughout the film.  This is a different film from the others as it concentrates on the differences between countries.  The songs in the film are also meaningful and romantic. Overall, this film is one of my favourite films.</td>\n",
              "    </tr>\n",
              "    <tr>\n",
              "      <th>202</th>\n",
              "      <td>Dil To Pagal Hai</td>\n",
              "      <td>https://www.imdb.com/review/rw0413181/</td>\n",
              "      <td>I first saw the film in 1998, and I was never tired of seeing the film again and again. Karishma Kapoor as Nisha gave a first rate performance even though she played second fiddle to Madhuri Dixit (Pooja). The story revolves around the life of dancers. Nisha and Rahul (Shahrukh Khan) are best friends. Unknown to Rahul, Nisha secretly loved him. Pooja came into the scene after Nisha accidentally slipped her foot during dancing practice for Rahul's next production drama entitled Maya. Desperat...</td>\n",
              "    </tr>\n",
              "    <tr>\n",
              "      <th>203</th>\n",
              "      <td>Dil Dhadakne Do</td>\n",
              "      <td>https://www.imdb.com/review/rw4191352/</td>\n",
              "      <td>The people who are saying this movie is not good clearly don't know anything about films.Dil Dhhadakne do is one of my favourite films.It is inspiring,beautiful,funny and just a full package.The film has a soul and is just a masterpiece from the director Zoya Akhtar.</td>\n",
              "    </tr>\n",
              "    <tr>\n",
              "      <th>204</th>\n",
              "      <td>Fukrey</td>\n",
              "      <td>https://www.imdb.com/review/rw2829690/</td>\n",
              "      <td>Fukrey has got its base trembling with a plot so naive, viewer discretion is recommended. Its screenplay is bit confusing for people who don't pay attention. Otherwise, it is a healthy Bollywood comedy film.Cast performance is nothing to talk about but the actors have managed to create enough chemistry between themselves. Although love doesn't come center-stage, it amuses. The music is catchy, but the lilts could've been improvised. Same theme music is used all over the 130 minutes. Cinemato...</td>\n",
              "    </tr>\n",
              "    <tr>\n",
              "      <th>205</th>\n",
              "      <td>2 States</td>\n",
              "      <td>https://www.imdb.com/review/rw3004853/</td>\n",
              "      <td>We all are quite familiar with movies which are based on novels, real- life stories, autobiographies etc. but few films exist which strikes the right chord! Many movies (in Bollywood) like 3 Idiots (2009), Kai Po Che (2013) have been adapted from novels of one masterpiece: Chetan Bhagat! He is the main reason behind the success of these movies and many others and again for the latest release of his novel \"2 States\" adaptation in Bollywood!! This movie is so wonderful and doesn't require any ...</td>\n",
              "    </tr>\n",
              "    <tr>\n",
              "      <th>206</th>\n",
              "      <td>Agneepath</td>\n",
              "      <td>https://www.imdb.com/review/rw2555920/</td>\n",
              "      <td>what a boring movie. Audience here was so disappointed that they started leaving the cinema after the interval. They expected a romantic movie. I decided to stay on and did i regret. I have no choice but to say 'why Hrithik did u act in this remake'? He was just sleepwalking throughout the film and gets beaten up in the end shouting Agneepath 3 times. What a waste of money and talent. Hrithik i think u should stick to your own style and leave this to Salman khan. Sanjay Dutt looks awful and ...</td>\n",
              "    </tr>\n",
              "    <tr>\n",
              "      <th>207</th>\n",
              "      <td>Thappad</td>\n",
              "      <td>https://www.imdb.com/review/rw5519239/</td>\n",
              "      <td>Speechless!! A must watch movie!! Beautiful part of movie is Men are not villain, Patriarchy is for which men and women both are responsible. This movie is as good as Marriage Story but the sad part is our country has limited audience to understand. I saw 6.1 which is disheartening and an insult to this film. Kudos to whole team specially to writer and director. Please continue to make such films.</td>\n",
              "    </tr>\n",
              "    <tr>\n",
              "      <th>208</th>\n",
              "      <td>Fashion</td>\n",
              "      <td>https://www.imdb.com/review/rw1970639/</td>\n",
              "      <td>Dazzling beauties, scintillating faces and an unprecedented dark shadows of backlashes: backstage of the glamour world is grossly scaring and unbelievably haunting. Madhur Bhandarkar's next real life reel movie although not in the same league of his previous works but yet makes a strong mark on the mind of viewers. The wow of the movie is the way fashion shows have been presented, remarkable camera work to capture the zest of the glam, astonishing sets and most importantly sizzling Kangana a...</td>\n",
              "    </tr>\n",
              "    <tr>\n",
              "      <th>209</th>\n",
              "      <td>Welcome</td>\n",
              "      <td>https://www.imdb.com/review/rw4916164/</td>\n",
              "      <td>What a time 2007 was!&amp; right we are lacking for a good comedy movie...&amp; yes Majnu bhai's painting is still famous in market.</td>\n",
              "    </tr>\n",
              "    <tr>\n",
              "      <th>210</th>\n",
              "      <td>Kaho Naa... Pyaar Hai</td>\n",
              "      <td>https://www.imdb.com/review/rw0702740/</td>\n",
              "      <td>Holy cow.  This movie is ridiculous. I'm so frustrated at trying to figure out which Hindi films are worth buying and which ones are pathetic.  It seems like almost every review section for a Hindi film has comments like \"The best film Ive ever seen\" and \"The worst movie of all time.\"  How does someone unfamiliar with all these movies know what to believe? Well, I've seen 3... Lagaan, Dil Chahta Hai, and this one. Lagaan, aside from an overly long cricket game, is a very sweet and charming f...</td>\n",
              "    </tr>\n",
              "    <tr>\n",
              "      <th>211</th>\n",
              "      <td>Baadshah</td>\n",
              "      <td>https://www.imdb.com/review/rw5898238/</td>\n",
              "      <td>The plot is great. The acting is top notch. A thorough entertainer. I think it deserves a rating of more than 7 at least.</td>\n",
              "    </tr>\n",
              "    <tr>\n",
              "      <th>212</th>\n",
              "      <td>Mulk</td>\n",
              "      <td>https://www.imdb.com/review/rw4279760/</td>\n",
              "      <td>The First ever movie in the Bollywood history which narrate the Terrorism unbiased . .the voice of reason is Chaos. . Watch Mulk for The Mulk</td>\n",
              "    </tr>\n",
              "    <tr>\n",
              "      <th>213</th>\n",
              "      <td>Raees</td>\n",
              "      <td>https://www.imdb.com/review/rw3629243/</td>\n",
              "      <td>Finally the day arrived after 3 years if wait, the day arrived. RAEES . Miyan Bhai SRK stole the thunder with his power packed performance. He has nailed it this  time. Raees SRK has shown and proved \" Form is temporary, Class is permanent \" Shah Rukh Khan and Nawazuddin 's bravura performances, Action sequences, Well researched script, Music, Screenplay , Editing, and Climax. The first half is well placed; Majmudar's one liners and the music is fabulous and the Laila Main Laila sequence ups...</td>\n",
              "    </tr>\n",
              "    <tr>\n",
              "      <th>214</th>\n",
              "      <td>Hasee Toh Phasee</td>\n",
              "      <td>https://www.imdb.com/review/rw5571337/</td>\n",
              "      <td>Though i get what style this film was going for but the director lost sight of the theme. Though I get the rules he was trying to break...he wasn't consistently breaking them. Also the whole manic pixie dream character was so irritating and poorly directed. She had no real depth to her character and every time she bit her lip to display her quirkyness or whatever I straight up wanted to punch her in the face. I can't believe how annoying her character was and straight up not believable but a...</td>\n",
              "    </tr>\n",
              "    <tr>\n",
              "      <th>215</th>\n",
              "      <td>Singham</td>\n",
              "      <td>https://www.imdb.com/review/rw2465067/</td>\n",
              "      <td>What a movie, there is not one single moment the movie is dragging or the story get a bit boring. The movie is very fast paste and every single moment is enjoyable to watch.Ajay Devgan and the main Villain is Top Notch...both of them does a very good job. The new girl is cute to look at, and she does do her acting OK.The only minus in the movie is the songs, there is not one single song which touch ur heart, or U feel like listening to again.For me Singham is so far the best movie of 2011, a...</td>\n",
              "    </tr>\n",
              "    <tr>\n",
              "      <th>216</th>\n",
              "      <td>Tanu Weds Manu</td>\n",
              "      <td>https://www.imdb.com/review/rw2399762/</td>\n",
              "      <td>Bollywood can do well to get some good script writers. This movie is like a test of patience. Its one thing to see a movie and know in the first 10 minutes that it is utter nonsense. This movie however will keep you on the edge - of boredom. You may feel throughout that things will become better and the script might become better - but it just rambles on.The central problem with this movie is that it assumes that you have an IQ which is just higher than that of a rodent. Why else would you b...</td>\n",
              "    </tr>\n",
              "    <tr>\n",
              "      <th>217</th>\n",
              "      <td>New York</td>\n",
              "      <td>https://www.imdb.com/review/rw2114557/</td>\n",
              "      <td>this was a very sad but great movie i don't know it could be more on the actuality side of things. I mean i don't want the FBI or HLS breaking down my front door of my house. but who really knows. anyway great story the producers were amazing at presenting this. had great acting. samir was a great choice for his roll i think that he should have been a older guy maybe a professor that would have made a better story like a sleeper cell with a professor recruiting foreign students to plot and t...</td>\n",
              "    </tr>\n",
              "    <tr>\n",
              "      <th>218</th>\n",
              "      <td>Love Aaj Kal</td>\n",
              "      <td>https://www.imdb.com/review/rw2107232/</td>\n",
              "      <td>Yesterday i went to this much hyped movie and i am sorry to say i was really very disappointed...The movies starts off in a good manner but as it moves you will laugh because at one moment you will find Saif ali khan in India and in the very next scene you will find him in U.K or U.S...The story in the past isn't good at all...There are hardly 4-5 scenes of it...I expected a lot from this movie especially after watching Jab we Met i thought this director is a man to watch out...But Love aaj ...</td>\n",
              "    </tr>\n",
              "    <tr>\n",
              "      <th>219</th>\n",
              "      <td>Phir Hera Pheri</td>\n",
              "      <td>https://www.imdb.com/review/rw4131501/</td>\n",
              "      <td>This film is an epic and absolute comedy with numerous rib-tickling moments.Akshay kumar,Paresh Rawal and Sunil shetty are perfect as the three leads who enter into trouble due to money's greed.Johny lever,Rajpal Yadav,Rimi sen,Sharat saxena,Manoj joshi and all other supporting actors add even more fun and comedy to the film.Last part evokes greatest laughter.ENJOY!</td>\n",
              "    </tr>\n",
              "    <tr>\n",
              "      <th>220</th>\n",
              "      <td>Yes Boss</td>\n",
              "      <td>https://www.imdb.com/review/rw2120553/</td>\n",
              "      <td>Yes Boss is one of my favourite Hindi romantic comedies of the 1990s. It is a very charming film and provides a thoroughly pleasurable and enjoyable watch. The film is about Rahul (Khan), an ambitious guy works as the assistant of the manipulative, married yet womanising businessman Siddharth (Pancholi). Rahul's loyalty to his boss is unlimited, and he does everything for him, even arranging his appointments with women. Siddharth, in turn, promises to help Rahul become an independent busines...</td>\n",
              "    </tr>\n",
              "    <tr>\n",
              "      <th>221</th>\n",
              "      <td>Karan Arjun</td>\n",
              "      <td>https://www.imdb.com/review/rw1700623/</td>\n",
              "      <td>Salman Khan's acting and films used to be good in the early 90's but not nowadays. I like a lot of Shah Rukh Khan's films so that is why I can say Karan Arjun is Salman's best film and not Shah Rukh's. I really liked the idea of the story about a mother's two sons killed and she prayed to faithfully ask for the return of her sons. A miracle takes place and they are both born again. The film was so heartfelt &amp; emotional about relationships. The best scenes throughout the whole movie are when ...</td>\n",
              "    </tr>\n",
              "    <tr>\n",
              "      <th>222</th>\n",
              "      <td>沙魯克罕之愛無敵</td>\n",
              "      <td>https://www.imdb.com/review/rw2704450/</td>\n",
              "      <td>There are commercial movies, art movies, action movies, horror movies, thriller movies and yes now remakes and then there are Yash Chopra Movies. Movies that entertain you, make you dance, make you laugh, make you cry and above all make you love the life.Jab Tak Hai Jaan has it all and beyond. What makes Jab Tak Hain Jaan special from Yash Ji's earlier movies is the narration, characterization. When he shoot portions in Kashmir and Ladakh he never did it for the sake of Natural beauty. Switz...</td>\n",
              "    </tr>\n",
              "    <tr>\n",
              "      <th>223</th>\n",
              "      <td>如果．愛在寶萊塢</td>\n",
              "      <td>https://www.imdb.com/review/rw2723776/</td>\n",
              "      <td>'Om Shanti Om' is, simply, one of the best films ever made.'Singing in the Rain' is the closest reference cinematically and thematically, both films are about the inside of the movie business Hollywood and Bollywood respectively. Baz Lurhman was going for the same kind of thing with 'Moulin Rouge' and - despite hyper-active trickery and bombast - managed to express romance, art and music pretty well, though not as well as is done here.'Om Shanti Om' manages to combine drama, high emotion, no...</td>\n",
              "    </tr>\n",
              "    <tr>\n",
              "      <th>224</th>\n",
              "      <td>Race</td>\n",
              "      <td>https://www.imdb.com/review/rw1854975/</td>\n",
              "      <td>I won't add a synopsis of the movie as by now it should be obvious from reading the other reviews what this so called movie is all about.It seems that Abbas-Mustan have still not woken up from the 80s where over the top action sequences and inappropriately placed songs ruled the screen. Fast forward 20 years later and the audience is given the same formula which is glossed up using modern technology.If the votes went into negative numbers I'd give this a minus 5. As a story it didn't start o...</td>\n",
              "    </tr>\n",
              "    <tr>\n",
              "      <th>225</th>\n",
              "      <td>Garam Masala</td>\n",
              "      <td>https://www.imdb.com/review/rw1288212/</td>\n",
              "      <td>One of the more sensible comedies to hit the Hindi film screens. A remake of Priyadarshans 80s Malayalam hit Boeing Boeing, which in turn was a remake of the 60s Hollywoon hit of the same name, Garam Masala elevates the standard of comedies in Hindi Cinema.Akshay Kumar has once again proved his is one of the best super stars of Hindi cinema who can do comedy. He has combined well with the new hunk John Abraham. However John still remains in Akshays shadows and fails to rise to the occasion.T...</td>\n",
              "    </tr>\n",
              "    <tr>\n",
              "      <th>226</th>\n",
              "      <td>Dhoom</td>\n",
              "      <td>https://www.imdb.com/review/rw1104813/</td>\n",
              "      <td>This movie basically seemed to me like a bad attempt to copy American action movies. I generally don't like those movies and not knowing what I was getting to see I was hoping to see a real Indian movie. Instead it was this weird cultural-crash-movie. But that's not the reason I didn't like Dhoom.It's because the whole movie is so bad it's laughable. The dialogs are tacky (\"Thank you mummy. Yes very okay very okay\", etc), the story is predictable and boring, the actors are extremely bad and ...</td>\n",
              "    </tr>\n",
              "    <tr>\n",
              "      <th>227</th>\n",
              "      <td>Mujhse Shaadi Karogi</td>\n",
              "      <td>https://www.imdb.com/review/rw1113997/</td>\n",
              "      <td>As long as you're in the mood for a lighthearted, somewhat goofy and self-consciously modern Bollywood romantic comedy, Mujhse Shaadi Karogi can fit the bill. It's often funny, and in many ways it is technically impressive. However, partially due to the necessity of stretching out the film's running time to standard Bollywood length, it becomes quite taxing during the second half. Most viewers' ratings are likely to go down during this period, but director David Dhawan redeems his film in th...</td>\n",
              "    </tr>\n",
              "    <tr>\n",
              "      <th>228</th>\n",
              "      <td>Go Goa Gone</td>\n",
              "      <td>https://www.imdb.com/review/rw2925799/</td>\n",
              "      <td>Go Goa Gone is truly one of the most hilarious Hindi films since Delhi Belly. It's a zombie comedy, with lots of blood and gore, so it's in no way for the squeamish, and the humor is quite mature, so it's NOT a child-friendly watch, but, hey, it's the subject matter itself which isn't really kid-suitable.Nevertheless, Go Goa Gone sets out to bring a new genre into Indian cinema with great gusto, and it fails to fail. With rib-tickling lines, great comic acting by Kunal Khemu, Vir Das, Anand ...</td>\n",
              "    </tr>\n",
              "    <tr>\n",
              "      <th>229</th>\n",
              "      <td>Wanted</td>\n",
              "      <td>https://www.imdb.com/review/rw2129338/</td>\n",
              "      <td>This is my first ever movie review on IMDb. I am a huge movie buff but too lazy to post my views about them here. Finally, I am writing for my Superstar, our Superstar, India's Superstar, The Only Superstar - Salman Khan.I just returned from the night show and boy I was entertained. I have been Salman's fan since his very first flick - Maine Pyar Kiya. I think I am his biggest fan alive. Have seen Andaz Apna Apna over 35 times and still watch it whenever I have the time. But, Salman's recent...</td>\n",
              "    </tr>\n",
              "    <tr>\n",
              "      <th>230</th>\n",
              "      <td>No Entry</td>\n",
              "      <td>https://www.imdb.com/review/rw1163233/</td>\n",
              "      <td>This movie is definitely one of the funniest movies ever seen. All the characters played their part well.Anil was definitely the best. His expressions were just class. He is one of the few actors who can perform almost any role with versatility.Fardeen was GOOD.He and Anil had great chemistry between them.They were class.Bipasha was awesome after a long time.Lara &amp; Esha were also good.Celina was absolutely stunning. Salman was also great but very little screen time. Boman Irani was also grea...</td>\n",
              "    </tr>\n",
              "    <tr>\n",
              "      <th>231</th>\n",
              "      <td>Chalte Chalte</td>\n",
              "      <td>https://www.imdb.com/review/rw0910522/</td>\n",
              "      <td>After a long time here is a film which entertains,delights and leaves one gasping at the brilliant acting. There are brief tedious patches when Shahrukh Khan and Rani are not on screen but those are few and far between. The story is very everyday -boy meets girl, falls instantly in love and wooes successfully this girl who is bit out of his world. But the Shahrukh charm is such that one wonders how she could have contemplated even for a week the thought of marrying some other chap even if sh...</td>\n",
              "    </tr>\n",
              "    <tr>\n",
              "      <th>232</th>\n",
              "      <td>Mission Mangal</td>\n",
              "      <td>https://www.imdb.com/review/rw5064535/</td>\n",
              "      <td>Only one question ! Why are those isro scientists dancing ?\\nA movie full of potential wasted.</td>\n",
              "    </tr>\n",
              "    <tr>\n",
              "      <th>233</th>\n",
              "      <td>War</td>\n",
              "      <td>https://www.imdb.com/review/rw5155414/</td>\n",
              "      <td>War is fast paced thriller, hindi reminds you that it's a Bollywood movie. Lets not be biased and appreciate both Hrittik and TIGER , role of Vani as expected is of 15-20 minutes but serves its purpose. Hrittik is up with charm and some great dialogues ,parkour and nerve-racking stunts by Tiger are O.M.G(that joker like laugh by tiger at the end will give u goosebumps)\\n.\\nThe story has lots of twists and CLIMAXES (yeah CLIMAXES)..but if u love movies like andhadhun at few points ur brain wi...</td>\n",
              "    </tr>\n",
              "    <tr>\n",
              "      <th>234</th>\n",
              "      <td>Brothers</td>\n",
              "      <td>https://www.imdb.com/review/rw3334090/</td>\n",
              "      <td>i was a bit angry, and was my primary reason for writing this review.the main thing i can say about this movie is that its a total worthless copy of the movie Warrior, i mean the basic thing about any movie is its plot and story and if u cant even get your own plot or story then u probably should stop making movies.And really its not that India doesn't have good writers or good stories to be told, so why copy.Besides copying the story from another movie lets review the other things. its got ...</td>\n",
              "    </tr>\n",
              "    <tr>\n",
              "      <th>235</th>\n",
              "      <td>Ek Villain</td>\n",
              "      <td>https://www.imdb.com/review/rw3041308/</td>\n",
              "      <td>I for one thought it was an excellent movie. Okay, seriously though, so many people are complaining that it's a Korean movie ripoff, but how many really saw that movie in the first place? Regardless of where the plot is derived from it was an enjoyable watch. It was great! The only qualm I had was Remo Fernandez's performance. It was rather contrived, but honestly that is about it. The non- linear plot format was intriguing, especially when compared to modern and rather stale mainstream Boll...</td>\n",
              "    </tr>\n",
              "    <tr>\n",
              "      <th>236</th>\n",
              "      <td>Dostana</td>\n",
              "      <td>https://www.imdb.com/review/rw1978125/</td>\n",
              "      <td>If you are a person who doesn't enjoy Gay, over the top and sometimes double meaning jokes then seriously don't venture into this movie.Also if you are expecting a movie that gives some kind of meaningful message in the end then too don't enter.This movie is mostly for regular bollywood movie goers who can digest some ridiculous moments and unrealistic scenes that seem to be challenging some common sense. Don't have too many expectations and you wont be disappointed.Its got some great cinema...</td>\n",
              "    </tr>\n",
              "    <tr>\n",
              "      <th>237</th>\n",
              "      <td>Paheli</td>\n",
              "      <td>https://www.imdb.com/review/rw1113901/</td>\n",
              "      <td>This film is absolutely excellent. The film was well-made. Great script and there was plenty of time to build relationships. Unlike the recent Indian movies that seem to be pointless and fast-paced and songs placed right-left and centre. This film is much better than Devdas. The colours, the songs, the acting, directing, producing and the cinematography are just brilliant. However you should not watch this film if you are a sceptic of folk tales and myths because this story is a Rajasthani f...</td>\n",
              "    </tr>\n",
              "    <tr>\n",
              "      <th>238</th>\n",
              "      <td>Dhoom:2</td>\n",
              "      <td>https://www.imdb.com/review/rw1535583/</td>\n",
              "      <td>I have no words to describe how disappointed I was with Dhoom 2. There was no story to speak of. There was no direction. I think the makers of Dhoom 2 would like to believe that the audience of Hindi films are like the audience of Teletubbies. Show some colorful scenes, some song and dance and we will all be happy and merry. I was impressed with what Bollywood movies have achieved in terms of technical wizardry, but was terribly let let down down by the movie makers' total lack of respect fo...</td>\n",
              "    </tr>\n",
              "    <tr>\n",
              "      <th>239</th>\n",
              "      <td>Asoka</td>\n",
              "      <td>https://www.imdb.com/review/rw0737445/</td>\n",
              "      <td>While this engaging film wonderfully depicts the evolution of a young man into the ferocious killing machine emperor called ChandAshoka (Wild Ashoka) it pays little attention to the much more vital legacy as DharmAshoka (Faithful Ashoka). Cutting two songs, and adding another 10 minutes of exposition to show his evolution into the enlightened and compassionate meesenger of Buddhism would have made the film much more complete, and raised it to the level of highest achievement. Ashoka made Kal...</td>\n",
              "    </tr>\n",
              "    <tr>\n",
              "      <th>240</th>\n",
              "      <td>Goliyon Ki Rasleela Ram-Leela</td>\n",
              "      <td>https://www.imdb.com/review/rw2907917/</td>\n",
              "      <td>what a pathetic portrayal of an age old story. the movie rides on Deepika Padukone's skin show with excessive use of colour which could irritate one to the core.There is nothing in the movie which could keep the viewer hooked. Abhimanyu singh's talent is totally wasted, wish he had got more screen time. I personally like movies with violence, but Raam-leela is full of mindless, stupid violence. Must say that violence is not Bhansalis cup of tea.When everything was seen falling apart, there c...</td>\n",
              "    </tr>\n",
              "    <tr>\n",
              "      <th>241</th>\n",
              "      <td>Bhagam Bhag</td>\n",
              "      <td>https://www.imdb.com/review/rw1576752/</td>\n",
              "      <td>Everybody was damn excited about this film. More than 22 crores of budget, perfect star cast, Priyadarshan and amazing promotions. But Bhagam Bhag doesn't go well compared to all the above mentioned jazz. Govinda is back after a very long time but there is nothing much to do for him! He is the biggest star when you call for an effortless dancing and perfectly framed comedy but look at him in this movie. There's no solo dance no. for him, no perfectly timed comedy and he is looking old and fa...</td>\n",
              "    </tr>\n",
              "    <tr>\n",
              "      <th>242</th>\n",
              "      <td>Krrish</td>\n",
              "      <td>https://www.imdb.com/review/rw1414628/</td>\n",
              "      <td>This is perhaps the worst superhero movie I've ever seen. What the Roshans have done is simply spent a week watching all the Hollywood superhero movies and spiced it up as 'Desi.'? And who ever on earth told them that Priyanka Chopra fitted the role? No man, don't even think about making the third part for this film. And what's up with the script, character artists and everything? Mr. Rakesh Roshan must take few lessons on writing a powerful screenplay and get rid of lame language. The big p...</td>\n",
              "    </tr>\n",
              "    <tr>\n",
              "      <th>243</th>\n",
              "      <td>2.0</td>\n",
              "      <td>https://www.imdb.com/review/rw4490414/</td>\n",
              "      <td>I had low expectations from vfx and high expectations from story line,the movie turned out to be exact opposite,vfx turned out to be better than i expected and story line was pretty disappointing,the movie is predictable at so many levels</td>\n",
              "    </tr>\n",
              "    <tr>\n",
              "      <th>244</th>\n",
              "      <td>Cocktail</td>\n",
              "      <td>https://www.imdb.com/review/rw3463762/</td>\n",
              "      <td>I watched this movie because of the refreshing music and the shooting at foreign locations that I saw in the trailer. It was a mistake. I should have known better that nice music and shooting at breathtaking locales does not equal a good film. The movie's weakest point is its story. Without going into details I'll say that it is full of stereotypes. Deepika plays Veronica- an independent girl who drinks, wears short clothes, visits night clubs and loves having casual sex. She also does not u...</td>\n",
              "    </tr>\n",
              "    <tr>\n",
              "      <th>245</th>\n",
              "      <td>Ajab Prem Ki Ghazab Kahani</td>\n",
              "      <td>https://www.imdb.com/review/rw2155652/</td>\n",
              "      <td>Go and watch this film if you are supposed to see a fresh comedy film of this year... Rajkumar Santoshi has really made a film watchable with family in the time when comedy meant adult comedy only!!!He again showed that he is full of talent after giving flop films. He worked really well. The heart of the film is the chemistry between Ranbir Kapoor and Katrina Kaif. They both are just outstanding in the film. It doesn't seen in the film that Ranbir is a new comer in the industry. It was said ...</td>\n",
              "    </tr>\n",
              "    <tr>\n",
              "      <th>246</th>\n",
              "      <td>Kabali</td>\n",
              "      <td>https://www.imdb.com/review/rw3510464/</td>\n",
              "      <td>Let's be honest here, if this movie didn't have Rajinikanth, nobody would've given two f*cks about it because it's that awful and cringeworthy. It has to be one of the most lacklustre movies I've ever watched and comes as a huge disappointment after all the hype and media coverage it got. It's got an extremely banal plot of a Malaysian Tamil gangster Kabali, portrayed by Rajini, involved in a gang war with a local don. There's another storyline that runs parallel, that of his personal life w...</td>\n",
              "    </tr>\n",
              "    <tr>\n",
              "      <th>247</th>\n",
              "      <td>Dabangg</td>\n",
              "      <td>https://www.imdb.com/review/rw2308391/</td>\n",
              "      <td>Dabangg means fearless. Someone who doesn't care a damn! As much as this film doesn't care a damn for any innovative storyline. As much as Chulbul Pandey tries to hide his tears behind his sunglasses, the film tries to camouflage its conventional storytelling behind Salman's style.Chulbul Pandey (Salman Khan) is a totally fearless but corrupt police officer with unorthodox working methods. He can't stand his stepbrother Makhi (Arbaaz Khan) and detests the dubious Cheedi Singh (Sonu Sood). Bu...</td>\n",
              "    </tr>\n",
              "    <tr>\n",
              "      <th>248</th>\n",
              "      <td>Billu</td>\n",
              "      <td>https://www.imdb.com/review/rw2023001/</td>\n",
              "      <td>This film has everything you could want in good family entertainment. A solid story line about friendship and trust and how people see or hear what they want and make assumptions. My daughter (10) and son (8) loved it and they don't understand Hindi - we read the subtitles and had a great time.The cinematography is beautiful. The acting is superb. Irrfan Khan plays every emotion to perfection. Lara Dutta shines as the simple village wife. Shahrukh Khan plays, well, himself, or at least a cha...</td>\n",
              "    </tr>\n",
              "    <tr>\n",
              "      <th>249</th>\n",
              "      <td>Bachna Ae Haseeno</td>\n",
              "      <td>https://www.imdb.com/review/rw1936306/</td>\n",
              "      <td>I was so impressed with this movie, all actors/actresses did a phenomenal job and I truly enjoyed every minute of the film! The music hands down was great as well, check out the tracks Khuda Jaane, Aahista, and Jogi Mahi for sure! Great writing, scripting, and definitely acting. As newcomers Ranbir and Deepika are contagious, their on screen chemistry (of course) was hot! The evolution of all the actors/actresses is identifiable and they did a great job adapting to their roles before and aft...</td>\n",
              "    </tr>\n",
              "  </tbody>\n",
              "</table>\n",
              "</div>"
            ],
            "text/plain": [
              "                             movie  ...                                                                                                                                                                                                                                                                                                                                                                                                                                                                                                          user_review\n",
              "200                   Main Hoon Na  ...  But what was up with Zayed Khan's hair? And who thought to cast Rakhi Sawant as a college sex symbol! She looked truly miscast in that role.But anyways, this was a wonderful film, I very well nearly laughed myself into a coma at the comic bits. I can't believe I postponed seeing this film for so long.Shah Rukh Khan (Ram) stars as an Army major who endures a personal tragedy at the beginning of the film, then is ordered to go undercover to protect the commissioner's daughter (played by Amrita...\n",
              "201                         Pardes  ...                                                                                     This is an excellent film, Sharukh Khan gives an astounding performance as Arjun, Mahima Choudhary puts a lot of effort in to her character  as the chemistry between Mahima and Sharukh shows throughout the film.  This is a different film from the others as it concentrates on the differences between countries.  The songs in the film are also meaningful and romantic. Overall, this film is one of my favourite films.\n",
              "202               Dil To Pagal Hai  ...  I first saw the film in 1998, and I was never tired of seeing the film again and again. Karishma Kapoor as Nisha gave a first rate performance even though she played second fiddle to Madhuri Dixit (Pooja). The story revolves around the life of dancers. Nisha and Rahul (Shahrukh Khan) are best friends. Unknown to Rahul, Nisha secretly loved him. Pooja came into the scene after Nisha accidentally slipped her foot during dancing practice for Rahul's next production drama entitled Maya. Desperat...\n",
              "203                Dil Dhadakne Do  ...                                                                                                                                                                                                                                          The people who are saying this movie is not good clearly don't know anything about films.Dil Dhhadakne do is one of my favourite films.It is inspiring,beautiful,funny and just a full package.The film has a soul and is just a masterpiece from the director Zoya Akhtar.\n",
              "204                         Fukrey  ...  Fukrey has got its base trembling with a plot so naive, viewer discretion is recommended. Its screenplay is bit confusing for people who don't pay attention. Otherwise, it is a healthy Bollywood comedy film.Cast performance is nothing to talk about but the actors have managed to create enough chemistry between themselves. Although love doesn't come center-stage, it amuses. The music is catchy, but the lilts could've been improvised. Same theme music is used all over the 130 minutes. Cinemato...\n",
              "205                       2 States  ...  We all are quite familiar with movies which are based on novels, real- life stories, autobiographies etc. but few films exist which strikes the right chord! Many movies (in Bollywood) like 3 Idiots (2009), Kai Po Che (2013) have been adapted from novels of one masterpiece: Chetan Bhagat! He is the main reason behind the success of these movies and many others and again for the latest release of his novel \"2 States\" adaptation in Bollywood!! This movie is so wonderful and doesn't require any ...\n",
              "206                      Agneepath  ...  what a boring movie. Audience here was so disappointed that they started leaving the cinema after the interval. They expected a romantic movie. I decided to stay on and did i regret. I have no choice but to say 'why Hrithik did u act in this remake'? He was just sleepwalking throughout the film and gets beaten up in the end shouting Agneepath 3 times. What a waste of money and talent. Hrithik i think u should stick to your own style and leave this to Salman khan. Sanjay Dutt looks awful and ...\n",
              "207                        Thappad  ...                                                                                                     Speechless!! A must watch movie!! Beautiful part of movie is Men are not villain, Patriarchy is for which men and women both are responsible. This movie is as good as Marriage Story but the sad part is our country has limited audience to understand. I saw 6.1 which is disheartening and an insult to this film. Kudos to whole team specially to writer and director. Please continue to make such films.\n",
              "208                        Fashion  ...  Dazzling beauties, scintillating faces and an unprecedented dark shadows of backlashes: backstage of the glamour world is grossly scaring and unbelievably haunting. Madhur Bhandarkar's next real life reel movie although not in the same league of his previous works but yet makes a strong mark on the mind of viewers. The wow of the movie is the way fashion shows have been presented, remarkable camera work to capture the zest of the glam, astonishing sets and most importantly sizzling Kangana a...\n",
              "209                        Welcome  ...                                                                                                                                                                                                                                                                                                                                                                                         What a time 2007 was!& right we are lacking for a good comedy movie...& yes Majnu bhai's painting is still famous in market.\n",
              "210          Kaho Naa... Pyaar Hai  ...  Holy cow.  This movie is ridiculous. I'm so frustrated at trying to figure out which Hindi films are worth buying and which ones are pathetic.  It seems like almost every review section for a Hindi film has comments like \"The best film Ive ever seen\" and \"The worst movie of all time.\"  How does someone unfamiliar with all these movies know what to believe? Well, I've seen 3... Lagaan, Dil Chahta Hai, and this one. Lagaan, aside from an overly long cricket game, is a very sweet and charming f...\n",
              "211                       Baadshah  ...                                                                                                                                                                                                                                                                                                                                                                                            The plot is great. The acting is top notch. A thorough entertainer. I think it deserves a rating of more than 7 at least.\n",
              "212                           Mulk  ...                                                                                                                                                                                                                                                                                                                                                                        The First ever movie in the Bollywood history which narrate the Terrorism unbiased . .the voice of reason is Chaos. . Watch Mulk for The Mulk\n",
              "213                          Raees  ...  Finally the day arrived after 3 years if wait, the day arrived. RAEES . Miyan Bhai SRK stole the thunder with his power packed performance. He has nailed it this  time. Raees SRK has shown and proved \" Form is temporary, Class is permanent \" Shah Rukh Khan and Nawazuddin 's bravura performances, Action sequences, Well researched script, Music, Screenplay , Editing, and Climax. The first half is well placed; Majmudar's one liners and the music is fabulous and the Laila Main Laila sequence ups...\n",
              "214               Hasee Toh Phasee  ...  Though i get what style this film was going for but the director lost sight of the theme. Though I get the rules he was trying to break...he wasn't consistently breaking them. Also the whole manic pixie dream character was so irritating and poorly directed. She had no real depth to her character and every time she bit her lip to display her quirkyness or whatever I straight up wanted to punch her in the face. I can't believe how annoying her character was and straight up not believable but a...\n",
              "215                        Singham  ...  What a movie, there is not one single moment the movie is dragging or the story get a bit boring. The movie is very fast paste and every single moment is enjoyable to watch.Ajay Devgan and the main Villain is Top Notch...both of them does a very good job. The new girl is cute to look at, and she does do her acting OK.The only minus in the movie is the songs, there is not one single song which touch ur heart, or U feel like listening to again.For me Singham is so far the best movie of 2011, a...\n",
              "216                 Tanu Weds Manu  ...  Bollywood can do well to get some good script writers. This movie is like a test of patience. Its one thing to see a movie and know in the first 10 minutes that it is utter nonsense. This movie however will keep you on the edge - of boredom. You may feel throughout that things will become better and the script might become better - but it just rambles on.The central problem with this movie is that it assumes that you have an IQ which is just higher than that of a rodent. Why else would you b...\n",
              "217                       New York  ...  this was a very sad but great movie i don't know it could be more on the actuality side of things. I mean i don't want the FBI or HLS breaking down my front door of my house. but who really knows. anyway great story the producers were amazing at presenting this. had great acting. samir was a great choice for his roll i think that he should have been a older guy maybe a professor that would have made a better story like a sleeper cell with a professor recruiting foreign students to plot and t...\n",
              "218                   Love Aaj Kal  ...  Yesterday i went to this much hyped movie and i am sorry to say i was really very disappointed...The movies starts off in a good manner but as it moves you will laugh because at one moment you will find Saif ali khan in India and in the very next scene you will find him in U.K or U.S...The story in the past isn't good at all...There are hardly 4-5 scenes of it...I expected a lot from this movie especially after watching Jab we Met i thought this director is a man to watch out...But Love aaj ...\n",
              "219                Phir Hera Pheri  ...                                                                                                                                     This film is an epic and absolute comedy with numerous rib-tickling moments.Akshay kumar,Paresh Rawal and Sunil shetty are perfect as the three leads who enter into trouble due to money's greed.Johny lever,Rajpal Yadav,Rimi sen,Sharat saxena,Manoj joshi and all other supporting actors add even more fun and comedy to the film.Last part evokes greatest laughter.ENJOY!\n",
              "220                       Yes Boss  ...  Yes Boss is one of my favourite Hindi romantic comedies of the 1990s. It is a very charming film and provides a thoroughly pleasurable and enjoyable watch. The film is about Rahul (Khan), an ambitious guy works as the assistant of the manipulative, married yet womanising businessman Siddharth (Pancholi). Rahul's loyalty to his boss is unlimited, and he does everything for him, even arranging his appointments with women. Siddharth, in turn, promises to help Rahul become an independent busines...\n",
              "221                    Karan Arjun  ...  Salman Khan's acting and films used to be good in the early 90's but not nowadays. I like a lot of Shah Rukh Khan's films so that is why I can say Karan Arjun is Salman's best film and not Shah Rukh's. I really liked the idea of the story about a mother's two sons killed and she prayed to faithfully ask for the return of her sons. A miracle takes place and they are both born again. The film was so heartfelt & emotional about relationships. The best scenes throughout the whole movie are when ...\n",
              "222                       沙魯克罕之愛無敵  ...  There are commercial movies, art movies, action movies, horror movies, thriller movies and yes now remakes and then there are Yash Chopra Movies. Movies that entertain you, make you dance, make you laugh, make you cry and above all make you love the life.Jab Tak Hai Jaan has it all and beyond. What makes Jab Tak Hain Jaan special from Yash Ji's earlier movies is the narration, characterization. When he shoot portions in Kashmir and Ladakh he never did it for the sake of Natural beauty. Switz...\n",
              "223                       如果．愛在寶萊塢  ...  'Om Shanti Om' is, simply, one of the best films ever made.'Singing in the Rain' is the closest reference cinematically and thematically, both films are about the inside of the movie business Hollywood and Bollywood respectively. Baz Lurhman was going for the same kind of thing with 'Moulin Rouge' and - despite hyper-active trickery and bombast - managed to express romance, art and music pretty well, though not as well as is done here.'Om Shanti Om' manages to combine drama, high emotion, no...\n",
              "224                           Race  ...  I won't add a synopsis of the movie as by now it should be obvious from reading the other reviews what this so called movie is all about.It seems that Abbas-Mustan have still not woken up from the 80s where over the top action sequences and inappropriately placed songs ruled the screen. Fast forward 20 years later and the audience is given the same formula which is glossed up using modern technology.If the votes went into negative numbers I'd give this a minus 5. As a story it didn't start o...\n",
              "225                   Garam Masala  ...  One of the more sensible comedies to hit the Hindi film screens. A remake of Priyadarshans 80s Malayalam hit Boeing Boeing, which in turn was a remake of the 60s Hollywoon hit of the same name, Garam Masala elevates the standard of comedies in Hindi Cinema.Akshay Kumar has once again proved his is one of the best super stars of Hindi cinema who can do comedy. He has combined well with the new hunk John Abraham. However John still remains in Akshays shadows and fails to rise to the occasion.T...\n",
              "226                          Dhoom  ...  This movie basically seemed to me like a bad attempt to copy American action movies. I generally don't like those movies and not knowing what I was getting to see I was hoping to see a real Indian movie. Instead it was this weird cultural-crash-movie. But that's not the reason I didn't like Dhoom.It's because the whole movie is so bad it's laughable. The dialogs are tacky (\"Thank you mummy. Yes very okay very okay\", etc), the story is predictable and boring, the actors are extremely bad and ...\n",
              "227           Mujhse Shaadi Karogi  ...  As long as you're in the mood for a lighthearted, somewhat goofy and self-consciously modern Bollywood romantic comedy, Mujhse Shaadi Karogi can fit the bill. It's often funny, and in many ways it is technically impressive. However, partially due to the necessity of stretching out the film's running time to standard Bollywood length, it becomes quite taxing during the second half. Most viewers' ratings are likely to go down during this period, but director David Dhawan redeems his film in th...\n",
              "228                    Go Goa Gone  ...  Go Goa Gone is truly one of the most hilarious Hindi films since Delhi Belly. It's a zombie comedy, with lots of blood and gore, so it's in no way for the squeamish, and the humor is quite mature, so it's NOT a child-friendly watch, but, hey, it's the subject matter itself which isn't really kid-suitable.Nevertheless, Go Goa Gone sets out to bring a new genre into Indian cinema with great gusto, and it fails to fail. With rib-tickling lines, great comic acting by Kunal Khemu, Vir Das, Anand ...\n",
              "229                         Wanted  ...  This is my first ever movie review on IMDb. I am a huge movie buff but too lazy to post my views about them here. Finally, I am writing for my Superstar, our Superstar, India's Superstar, The Only Superstar - Salman Khan.I just returned from the night show and boy I was entertained. I have been Salman's fan since his very first flick - Maine Pyar Kiya. I think I am his biggest fan alive. Have seen Andaz Apna Apna over 35 times and still watch it whenever I have the time. But, Salman's recent...\n",
              "230                       No Entry  ...  This movie is definitely one of the funniest movies ever seen. All the characters played their part well.Anil was definitely the best. His expressions were just class. He is one of the few actors who can perform almost any role with versatility.Fardeen was GOOD.He and Anil had great chemistry between them.They were class.Bipasha was awesome after a long time.Lara & Esha were also good.Celina was absolutely stunning. Salman was also great but very little screen time. Boman Irani was also grea...\n",
              "231                  Chalte Chalte  ...  After a long time here is a film which entertains,delights and leaves one gasping at the brilliant acting. There are brief tedious patches when Shahrukh Khan and Rani are not on screen but those are few and far between. The story is very everyday -boy meets girl, falls instantly in love and wooes successfully this girl who is bit out of his world. But the Shahrukh charm is such that one wonders how she could have contemplated even for a week the thought of marrying some other chap even if sh...\n",
              "232                 Mission Mangal  ...                                                                                                                                                                                                                                                                                                                                                                                                                       Only one question ! Why are those isro scientists dancing ?\\nA movie full of potential wasted.\n",
              "233                            War  ...  War is fast paced thriller, hindi reminds you that it's a Bollywood movie. Lets not be biased and appreciate both Hrittik and TIGER , role of Vani as expected is of 15-20 minutes but serves its purpose. Hrittik is up with charm and some great dialogues ,parkour and nerve-racking stunts by Tiger are O.M.G(that joker like laugh by tiger at the end will give u goosebumps)\\n.\\nThe story has lots of twists and CLIMAXES (yeah CLIMAXES)..but if u love movies like andhadhun at few points ur brain wi...\n",
              "234                       Brothers  ...  i was a bit angry, and was my primary reason for writing this review.the main thing i can say about this movie is that its a total worthless copy of the movie Warrior, i mean the basic thing about any movie is its plot and story and if u cant even get your own plot or story then u probably should stop making movies.And really its not that India doesn't have good writers or good stories to be told, so why copy.Besides copying the story from another movie lets review the other things. its got ...\n",
              "235                     Ek Villain  ...  I for one thought it was an excellent movie. Okay, seriously though, so many people are complaining that it's a Korean movie ripoff, but how many really saw that movie in the first place? Regardless of where the plot is derived from it was an enjoyable watch. It was great! The only qualm I had was Remo Fernandez's performance. It was rather contrived, but honestly that is about it. The non- linear plot format was intriguing, especially when compared to modern and rather stale mainstream Boll...\n",
              "236                        Dostana  ...  If you are a person who doesn't enjoy Gay, over the top and sometimes double meaning jokes then seriously don't venture into this movie.Also if you are expecting a movie that gives some kind of meaningful message in the end then too don't enter.This movie is mostly for regular bollywood movie goers who can digest some ridiculous moments and unrealistic scenes that seem to be challenging some common sense. Don't have too many expectations and you wont be disappointed.Its got some great cinema...\n",
              "237                         Paheli  ...  This film is absolutely excellent. The film was well-made. Great script and there was plenty of time to build relationships. Unlike the recent Indian movies that seem to be pointless and fast-paced and songs placed right-left and centre. This film is much better than Devdas. The colours, the songs, the acting, directing, producing and the cinematography are just brilliant. However you should not watch this film if you are a sceptic of folk tales and myths because this story is a Rajasthani f...\n",
              "238                        Dhoom:2  ...  I have no words to describe how disappointed I was with Dhoom 2. There was no story to speak of. There was no direction. I think the makers of Dhoom 2 would like to believe that the audience of Hindi films are like the audience of Teletubbies. Show some colorful scenes, some song and dance and we will all be happy and merry. I was impressed with what Bollywood movies have achieved in terms of technical wizardry, but was terribly let let down down by the movie makers' total lack of respect fo...\n",
              "239                          Asoka  ...  While this engaging film wonderfully depicts the evolution of a young man into the ferocious killing machine emperor called ChandAshoka (Wild Ashoka) it pays little attention to the much more vital legacy as DharmAshoka (Faithful Ashoka). Cutting two songs, and adding another 10 minutes of exposition to show his evolution into the enlightened and compassionate meesenger of Buddhism would have made the film much more complete, and raised it to the level of highest achievement. Ashoka made Kal...\n",
              "240  Goliyon Ki Rasleela Ram-Leela  ...  what a pathetic portrayal of an age old story. the movie rides on Deepika Padukone's skin show with excessive use of colour which could irritate one to the core.There is nothing in the movie which could keep the viewer hooked. Abhimanyu singh's talent is totally wasted, wish he had got more screen time. I personally like movies with violence, but Raam-leela is full of mindless, stupid violence. Must say that violence is not Bhansalis cup of tea.When everything was seen falling apart, there c...\n",
              "241                    Bhagam Bhag  ...  Everybody was damn excited about this film. More than 22 crores of budget, perfect star cast, Priyadarshan and amazing promotions. But Bhagam Bhag doesn't go well compared to all the above mentioned jazz. Govinda is back after a very long time but there is nothing much to do for him! He is the biggest star when you call for an effortless dancing and perfectly framed comedy but look at him in this movie. There's no solo dance no. for him, no perfectly timed comedy and he is looking old and fa...\n",
              "242                         Krrish  ...  This is perhaps the worst superhero movie I've ever seen. What the Roshans have done is simply spent a week watching all the Hollywood superhero movies and spiced it up as 'Desi.'? And who ever on earth told them that Priyanka Chopra fitted the role? No man, don't even think about making the third part for this film. And what's up with the script, character artists and everything? Mr. Rakesh Roshan must take few lessons on writing a powerful screenplay and get rid of lame language. The big p...\n",
              "243                            2.0  ...                                                                                                                                                                                                                                                                       I had low expectations from vfx and high expectations from story line,the movie turned out to be exact opposite,vfx turned out to be better than i expected and story line was pretty disappointing,the movie is predictable at so many levels\n",
              "244                       Cocktail  ...  I watched this movie because of the refreshing music and the shooting at foreign locations that I saw in the trailer. It was a mistake. I should have known better that nice music and shooting at breathtaking locales does not equal a good film. The movie's weakest point is its story. Without going into details I'll say that it is full of stereotypes. Deepika plays Veronica- an independent girl who drinks, wears short clothes, visits night clubs and loves having casual sex. She also does not u...\n",
              "245     Ajab Prem Ki Ghazab Kahani  ...  Go and watch this film if you are supposed to see a fresh comedy film of this year... Rajkumar Santoshi has really made a film watchable with family in the time when comedy meant adult comedy only!!!He again showed that he is full of talent after giving flop films. He worked really well. The heart of the film is the chemistry between Ranbir Kapoor and Katrina Kaif. They both are just outstanding in the film. It doesn't seen in the film that Ranbir is a new comer in the industry. It was said ...\n",
              "246                         Kabali  ...  Let's be honest here, if this movie didn't have Rajinikanth, nobody would've given two f*cks about it because it's that awful and cringeworthy. It has to be one of the most lacklustre movies I've ever watched and comes as a huge disappointment after all the hype and media coverage it got. It's got an extremely banal plot of a Malaysian Tamil gangster Kabali, portrayed by Rajini, involved in a gang war with a local don. There's another storyline that runs parallel, that of his personal life w...\n",
              "247                        Dabangg  ...  Dabangg means fearless. Someone who doesn't care a damn! As much as this film doesn't care a damn for any innovative storyline. As much as Chulbul Pandey tries to hide his tears behind his sunglasses, the film tries to camouflage its conventional storytelling behind Salman's style.Chulbul Pandey (Salman Khan) is a totally fearless but corrupt police officer with unorthodox working methods. He can't stand his stepbrother Makhi (Arbaaz Khan) and detests the dubious Cheedi Singh (Sonu Sood). Bu...\n",
              "248                          Billu  ...  This film has everything you could want in good family entertainment. A solid story line about friendship and trust and how people see or hear what they want and make assumptions. My daughter (10) and son (8) loved it and they don't understand Hindi - we read the subtitles and had a great time.The cinematography is beautiful. The acting is superb. Irrfan Khan plays every emotion to perfection. Lara Dutta shines as the simple village wife. Shahrukh Khan plays, well, himself, or at least a cha...\n",
              "249              Bachna Ae Haseeno  ...  I was so impressed with this movie, all actors/actresses did a phenomenal job and I truly enjoyed every minute of the film! The music hands down was great as well, check out the tracks Khuda Jaane, Aahista, and Jogi Mahi for sure! Great writing, scripting, and definitely acting. As newcomers Ranbir and Deepika are contagious, their on screen chemistry (of course) was hot! The evolution of all the actors/actresses is identifiable and they did a great job adapting to their roles before and aft...\n",
              "\n",
              "[50 rows x 3 columns]"
            ]
          },
          "metadata": {
            "tags": []
          },
          "execution_count": 147
        }
      ]
    },
    {
      "cell_type": "code",
      "metadata": {
        "id": "n13OLHXctcXs",
        "colab_type": "code",
        "colab": {}
      },
      "source": [
        "y_true.to_csv('solution.csv', index=False)"
      ],
      "execution_count": null,
      "outputs": []
    },
    {
      "cell_type": "code",
      "metadata": {
        "id": "kNA2qkps3uPN",
        "colab_type": "code",
        "colab": {
          "base_uri": "https://localhost:8080/",
          "height": 595
        },
        "outputId": "a97b0244-5a9f-4271-c371-44d1cf47f9b4"
      },
      "source": [
        "X.head()"
      ],
      "execution_count": null,
      "outputs": [
        {
          "output_type": "execute_result",
          "data": {
            "text/html": [
              "<div>\n",
              "<style scoped>\n",
              "    .dataframe tbody tr th:only-of-type {\n",
              "        vertical-align: middle;\n",
              "    }\n",
              "\n",
              "    .dataframe tbody tr th {\n",
              "        vertical-align: top;\n",
              "    }\n",
              "\n",
              "    .dataframe thead th {\n",
              "        text-align: right;\n",
              "    }\n",
              "</style>\n",
              "<table border=\"1\" class=\"dataframe\">\n",
              "  <thead>\n",
              "    <tr style=\"text-align: right;\">\n",
              "      <th></th>\n",
              "      <th>movie</th>\n",
              "      <th>user_review_permalink</th>\n",
              "      <th>user_review</th>\n",
              "    </tr>\n",
              "  </thead>\n",
              "  <tbody>\n",
              "    <tr>\n",
              "      <th>200</th>\n",
              "      <td>Main Hoon Na</td>\n",
              "      <td>https://www.imdb.com/review/rw1409633/</td>\n",
              "      <td>But what was up with Zayed Khan's hair? And who thought to cast Rakhi Sawant as a college sex symbol! She looked truly miscast in that role.But anyways, this was a wonderful film, I very well nearly laughed myself into a coma at the comic bits. I can't believe I postponed seeing this film for so long.Shah Rukh Khan (Ram) stars as an Army major who endures a personal tragedy at the beginning of the film, then is ordered to go undercover to protect the commissioner's daughter (played by Amrita...</td>\n",
              "    </tr>\n",
              "    <tr>\n",
              "      <th>201</th>\n",
              "      <td>Pardes</td>\n",
              "      <td>https://www.imdb.com/review/rw0428420/</td>\n",
              "      <td>This is an excellent film, Sharukh Khan gives an astounding performance as Arjun, Mahima Choudhary puts a lot of effort in to her character  as the chemistry between Mahima and Sharukh shows throughout the film.  This is a different film from the others as it concentrates on the differences between countries.  The songs in the film are also meaningful and romantic. Overall, this film is one of my favourite films.</td>\n",
              "    </tr>\n",
              "    <tr>\n",
              "      <th>202</th>\n",
              "      <td>Dil To Pagal Hai</td>\n",
              "      <td>https://www.imdb.com/review/rw0413181/</td>\n",
              "      <td>I first saw the film in 1998, and I was never tired of seeing the film again and again. Karishma Kapoor as Nisha gave a first rate performance even though she played second fiddle to Madhuri Dixit (Pooja). The story revolves around the life of dancers. Nisha and Rahul (Shahrukh Khan) are best friends. Unknown to Rahul, Nisha secretly loved him. Pooja came into the scene after Nisha accidentally slipped her foot during dancing practice for Rahul's next production drama entitled Maya. Desperat...</td>\n",
              "    </tr>\n",
              "    <tr>\n",
              "      <th>203</th>\n",
              "      <td>Dil Dhadakne Do</td>\n",
              "      <td>https://www.imdb.com/review/rw4191352/</td>\n",
              "      <td>The people who are saying this movie is not good clearly don't know anything about films.Dil Dhhadakne do is one of my favourite films.It is inspiring,beautiful,funny and just a full package.The film has a soul and is just a masterpiece from the director Zoya Akhtar.</td>\n",
              "    </tr>\n",
              "    <tr>\n",
              "      <th>204</th>\n",
              "      <td>Fukrey</td>\n",
              "      <td>https://www.imdb.com/review/rw2829690/</td>\n",
              "      <td>Fukrey has got its base trembling with a plot so naive, viewer discretion is recommended. Its screenplay is bit confusing for people who don't pay attention. Otherwise, it is a healthy Bollywood comedy film.Cast performance is nothing to talk about but the actors have managed to create enough chemistry between themselves. Although love doesn't come center-stage, it amuses. The music is catchy, but the lilts could've been improvised. Same theme music is used all over the 130 minutes. Cinemato...</td>\n",
              "    </tr>\n",
              "  </tbody>\n",
              "</table>\n",
              "</div>"
            ],
            "text/plain": [
              "                movie  ...                                                                                                                                                                                                                                                                                                                                                                                                                                                                                                          user_review\n",
              "200      Main Hoon Na  ...  But what was up with Zayed Khan's hair? And who thought to cast Rakhi Sawant as a college sex symbol! She looked truly miscast in that role.But anyways, this was a wonderful film, I very well nearly laughed myself into a coma at the comic bits. I can't believe I postponed seeing this film for so long.Shah Rukh Khan (Ram) stars as an Army major who endures a personal tragedy at the beginning of the film, then is ordered to go undercover to protect the commissioner's daughter (played by Amrita...\n",
              "201            Pardes  ...                                                                                     This is an excellent film, Sharukh Khan gives an astounding performance as Arjun, Mahima Choudhary puts a lot of effort in to her character  as the chemistry between Mahima and Sharukh shows throughout the film.  This is a different film from the others as it concentrates on the differences between countries.  The songs in the film are also meaningful and romantic. Overall, this film is one of my favourite films.\n",
              "202  Dil To Pagal Hai  ...  I first saw the film in 1998, and I was never tired of seeing the film again and again. Karishma Kapoor as Nisha gave a first rate performance even though she played second fiddle to Madhuri Dixit (Pooja). The story revolves around the life of dancers. Nisha and Rahul (Shahrukh Khan) are best friends. Unknown to Rahul, Nisha secretly loved him. Pooja came into the scene after Nisha accidentally slipped her foot during dancing practice for Rahul's next production drama entitled Maya. Desperat...\n",
              "203   Dil Dhadakne Do  ...                                                                                                                                                                                                                                          The people who are saying this movie is not good clearly don't know anything about films.Dil Dhhadakne do is one of my favourite films.It is inspiring,beautiful,funny and just a full package.The film has a soul and is just a masterpiece from the director Zoya Akhtar.\n",
              "204            Fukrey  ...  Fukrey has got its base trembling with a plot so naive, viewer discretion is recommended. Its screenplay is bit confusing for people who don't pay attention. Otherwise, it is a healthy Bollywood comedy film.Cast performance is nothing to talk about but the actors have managed to create enough chemistry between themselves. Although love doesn't come center-stage, it amuses. The music is catchy, but the lilts could've been improvised. Same theme music is used all over the 130 minutes. Cinemato...\n",
              "\n",
              "[5 rows x 3 columns]"
            ]
          },
          "metadata": {
            "tags": []
          },
          "execution_count": 149
        }
      ]
    },
    {
      "cell_type": "code",
      "metadata": {
        "id": "Buc1uq4EwO9p",
        "colab_type": "code",
        "colab": {}
      },
      "source": [
        "X.to_csv('test.csv', index=False)"
      ],
      "execution_count": null,
      "outputs": []
    },
    {
      "cell_type": "code",
      "metadata": {
        "id": "5kmJBiaKz-dP",
        "colab_type": "code",
        "colab": {}
      },
      "source": [
        "df4.to_csv('train.csv', index=False)"
      ],
      "execution_count": null,
      "outputs": []
    },
    {
      "cell_type": "code",
      "metadata": {
        "id": "eXBlP-NR7eNj",
        "colab_type": "code",
        "colab": {}
      },
      "source": [
        ""
      ],
      "execution_count": null,
      "outputs": []
    }
  ]
}